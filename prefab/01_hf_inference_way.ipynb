{
 "cells": [
  {
   "cell_type": "code",
   "execution_count": 1,
   "id": "06a8ea39",
   "metadata": {},
   "outputs": [],
   "source": [
    "import os\n",
    "from dotenv import load_dotenv\n",
    "from huggingface_hub import InferenceClient\n"
   ]
  },
  {
   "cell_type": "code",
   "execution_count": 2,
   "id": "cdd2c3a0",
   "metadata": {},
   "outputs": [
    {
     "data": {
      "text/plain": [
       "True"
      ]
     },
     "execution_count": 2,
     "metadata": {},
     "output_type": "execute_result"
    }
   ],
   "source": [
    "load_dotenv('../.env')"
   ]
  },
  {
   "cell_type": "code",
   "execution_count": 3,
   "id": "8f8f2d60",
   "metadata": {},
   "outputs": [],
   "source": [
    "client = InferenceClient(\n",
    "    provider=\"hf-inference\",\n",
    "    api_key=os.environ[\"HF_TOKEN\"],\n",
    ")\n"
   ]
  },
  {
   "cell_type": "code",
   "execution_count": 4,
   "id": "bdcc5944",
   "metadata": {},
   "outputs": [],
   "source": [
    "result = client.fill_mask(\n",
    "    \"The answer to the universe is [MASK].\",\n",
    "    model=\"google-bert/bert-base-uncased\",\n",
    ")"
   ]
  },
  {
   "cell_type": "code",
   "execution_count": 5,
   "id": "8a159c48",
   "metadata": {},
   "outputs": [
    {
     "data": {
      "text/plain": [
       "[FillMaskOutputElement(score=0.16963975131511688, sequence='the answer to the universe is no.', token=2053, token_str='no', fill_mask_output_token_str=None),\n",
       " FillMaskOutputElement(score=0.0734475627541542, sequence='the answer to the universe is nothing.', token=2498, token_str='nothing', fill_mask_output_token_str=None),\n",
       " FillMaskOutputElement(score=0.058032505214214325, sequence='the answer to the universe is yes.', token=2748, token_str='yes', fill_mask_output_token_str=None),\n",
       " FillMaskOutputElement(score=0.04395798221230507, sequence='the answer to the universe is unknown.', token=4242, token_str='unknown', fill_mask_output_token_str=None),\n",
       " FillMaskOutputElement(score=0.04015745967626572, sequence='the answer to the universe is simple.', token=3722, token_str='simple', fill_mask_output_token_str=None)]"
      ]
     },
     "execution_count": 5,
     "metadata": {},
     "output_type": "execute_result"
    }
   ],
   "source": [
    "result"
   ]
  },
  {
   "cell_type": "code",
   "execution_count": null,
   "id": "ee0cb7eb",
   "metadata": {},
   "outputs": [],
   "source": []
  }
 ],
 "metadata": {
  "kernelspec": {
   "display_name": "dev_base",
   "language": "python",
   "name": "python3"
  },
  "language_info": {
   "codemirror_mode": {
    "name": "ipython",
    "version": 3
   },
   "file_extension": ".py",
   "mimetype": "text/x-python",
   "name": "python",
   "nbconvert_exporter": "python",
   "pygments_lexer": "ipython3",
   "version": "3.11.5"
  }
 },
 "nbformat": 4,
 "nbformat_minor": 5
}
