{
 "cells": [
  {
   "cell_type": "code",
   "execution_count": 1,
   "id": "e795bc8f",
   "metadata": {},
   "outputs": [],
   "source": [
    "import torch\n",
    "from simple_nn import load_model_definition"
   ]
  },
  {
   "cell_type": "code",
   "execution_count": 2,
   "id": "cce62754",
   "metadata": {},
   "outputs": [
    {
     "data": {
      "text/plain": [
       "tensor([ 0.2418,  0.2625, -0.0741,  0.2905, -0.0693,  0.0638, -0.1540,  0.1857,\n",
       "         0.2788, -0.2320], grad_fn=<SelectBackward0>)"
      ]
     },
     "execution_count": 2,
     "metadata": {},
     "output_type": "execute_result"
    }
   ],
   "source": [
    "torch.manual_seed(42)\n",
    "model = load_model_definition()\n",
    "model.fc1.weight[0]"
   ]
  },
  {
   "cell_type": "code",
   "execution_count": 3,
   "id": "56bb0afd",
   "metadata": {},
   "outputs": [
    {
     "data": {
      "text/plain": [
       "tensor([ 0.2418,  0.2625, -0.0741,  0.2905, -0.0693,  0.0638, -0.1540,  0.1857,\n",
       "         0.2788, -0.2320], grad_fn=<SelectBackward0>)"
      ]
     },
     "execution_count": 3,
     "metadata": {},
     "output_type": "execute_result"
    }
   ],
   "source": [
    "torch.manual_seed(42)\n",
    "model_2 = load_model_definition()\n",
    "model_2.fc1.weight[0]"
   ]
  },
  {
   "cell_type": "code",
   "execution_count": 4,
   "id": "b998d989",
   "metadata": {},
   "outputs": [
    {
     "data": {
      "text/plain": [
       "tensor([ 0.0147,  0.0913,  0.1322, -0.0688, -0.1188,  0.1426, -0.1939, -0.2946,\n",
       "        -0.1351, -0.2272], grad_fn=<SelectBackward0>)"
      ]
     },
     "execution_count": 4,
     "metadata": {},
     "output_type": "execute_result"
    }
   ],
   "source": [
    "local_model_path = './local_model/simple_nn_random.pt'\n",
    "model.load_state_dict(torch.load(local_model_path))\n",
    "model.eval()\n",
    "model.fc1.weight[0]"
   ]
  },
  {
   "cell_type": "code",
   "execution_count": null,
   "id": "34d075da",
   "metadata": {},
   "outputs": [],
   "source": []
  }
 ],
 "metadata": {
  "kernelspec": {
   "display_name": "dev_base",
   "language": "python",
   "name": "python3"
  },
  "language_info": {
   "codemirror_mode": {
    "name": "ipython",
    "version": 3
   },
   "file_extension": ".py",
   "mimetype": "text/x-python",
   "name": "python",
   "nbconvert_exporter": "python",
   "pygments_lexer": "ipython3",
   "version": "3.11.5"
  }
 },
 "nbformat": 4,
 "nbformat_minor": 5
}
